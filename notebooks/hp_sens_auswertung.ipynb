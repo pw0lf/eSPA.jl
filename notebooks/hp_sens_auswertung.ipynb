{
 "cells": [
  {
   "cell_type": "code",
   "execution_count": 222,
   "id": "9ad3577d",
   "metadata": {},
   "outputs": [],
   "source": [
    "using Plots\n",
    "using LaTeXStrings\n",
    "using CSV\n",
    "using DataFrames"
   ]
  },
  {
   "cell_type": "code",
   "execution_count": 223,
   "id": "830f03b7",
   "metadata": {},
   "outputs": [
    {
     "data": {
      "text/html": [
       "<div><div style = \"float: left;\"><span>3041×6 DataFrame</span></div><div style = \"float: right;\"><span style = \"font-style: italic;\">3016 rows omitted</span></div><div style = \"clear: both;\"></div></div><div class = \"data-frame\" style = \"overflow-x: scroll;\"><table class = \"data-frame\" style = \"margin-bottom: 6px;\"><thead><tr class = \"header\"><th class = \"rowNumber\" style = \"font-weight: bold; text-align: right;\">Row</th><th style = \"text-align: left;\">K</th><th style = \"text-align: left;\">eps_CL</th><th style = \"text-align: left;\">eps_E</th><th style = \"text-align: left;\">tol</th><th style = \"text-align: left;\">time</th><th style = \"text-align: left;\">acc</th></tr><tr class = \"subheader headerLastRow\"><th class = \"rowNumber\" style = \"font-weight: bold; text-align: right;\"></th><th title = \"Int64\" style = \"text-align: left;\">Int64</th><th title = \"Float64\" style = \"text-align: left;\">Float64</th><th title = \"Float64\" style = \"text-align: left;\">Float64</th><th title = \"Float64\" style = \"text-align: left;\">Float64</th><th title = \"Float64\" style = \"text-align: left;\">Float64</th><th title = \"Float64\" style = \"text-align: left;\">Float64</th></tr></thead><tbody><tr><td class = \"rowNumber\" style = \"font-weight: bold; text-align: right;\">1</td><td style = \"text-align: right;\">14</td><td style = \"text-align: right;\">0.95275</td><td style = \"text-align: right;\">0.0128265</td><td style = \"text-align: right;\">3.47169e-8</td><td style = \"text-align: right;\">3.60564</td><td style = \"text-align: right;\">0.742857</td></tr><tr><td class = \"rowNumber\" style = \"font-weight: bold; text-align: right;\">2</td><td style = \"text-align: right;\">15</td><td style = \"text-align: right;\">0.95275</td><td style = \"text-align: right;\">0.0128265</td><td style = \"text-align: right;\">3.47169e-8</td><td style = \"text-align: right;\">0.405741</td><td style = \"text-align: right;\">0.628571</td></tr><tr><td class = \"rowNumber\" style = \"font-weight: bold; text-align: right;\">3</td><td style = \"text-align: right;\">16</td><td style = \"text-align: right;\">0.95275</td><td style = \"text-align: right;\">0.0128265</td><td style = \"text-align: right;\">3.47169e-8</td><td style = \"text-align: right;\">13.0519</td><td style = \"text-align: right;\">0.628571</td></tr><tr><td class = \"rowNumber\" style = \"font-weight: bold; text-align: right;\">4</td><td style = \"text-align: right;\">17</td><td style = \"text-align: right;\">0.95275</td><td style = \"text-align: right;\">0.0128265</td><td style = \"text-align: right;\">3.47169e-8</td><td style = \"text-align: right;\">13.3506</td><td style = \"text-align: right;\">0.771429</td></tr><tr><td class = \"rowNumber\" style = \"font-weight: bold; text-align: right;\">5</td><td style = \"text-align: right;\">18</td><td style = \"text-align: right;\">0.95275</td><td style = \"text-align: right;\">0.0128265</td><td style = \"text-align: right;\">3.47169e-8</td><td style = \"text-align: right;\">9.19967</td><td style = \"text-align: right;\">0.857143</td></tr><tr><td class = \"rowNumber\" style = \"font-weight: bold; text-align: right;\">6</td><td style = \"text-align: right;\">19</td><td style = \"text-align: right;\">0.95275</td><td style = \"text-align: right;\">0.0128265</td><td style = \"text-align: right;\">3.47169e-8</td><td style = \"text-align: right;\">8.17392</td><td style = \"text-align: right;\">0.685714</td></tr><tr><td class = \"rowNumber\" style = \"font-weight: bold; text-align: right;\">7</td><td style = \"text-align: right;\">20</td><td style = \"text-align: right;\">0.95275</td><td style = \"text-align: right;\">0.0128265</td><td style = \"text-align: right;\">3.47169e-8</td><td style = \"text-align: right;\">9.07344</td><td style = \"text-align: right;\">0.771429</td></tr><tr><td class = \"rowNumber\" style = \"font-weight: bold; text-align: right;\">8</td><td style = \"text-align: right;\">21</td><td style = \"text-align: right;\">0.95275</td><td style = \"text-align: right;\">0.0128265</td><td style = \"text-align: right;\">3.47169e-8</td><td style = \"text-align: right;\">13.8096</td><td style = \"text-align: right;\">0.742857</td></tr><tr><td class = \"rowNumber\" style = \"font-weight: bold; text-align: right;\">9</td><td style = \"text-align: right;\">22</td><td style = \"text-align: right;\">0.95275</td><td style = \"text-align: right;\">0.0128265</td><td style = \"text-align: right;\">3.47169e-8</td><td style = \"text-align: right;\">6.83688</td><td style = \"text-align: right;\">0.8</td></tr><tr><td class = \"rowNumber\" style = \"font-weight: bold; text-align: right;\">10</td><td style = \"text-align: right;\">23</td><td style = \"text-align: right;\">0.95275</td><td style = \"text-align: right;\">0.0128265</td><td style = \"text-align: right;\">3.47169e-8</td><td style = \"text-align: right;\">11.9106</td><td style = \"text-align: right;\">0.657143</td></tr><tr><td class = \"rowNumber\" style = \"font-weight: bold; text-align: right;\">11</td><td style = \"text-align: right;\">24</td><td style = \"text-align: right;\">0.95275</td><td style = \"text-align: right;\">0.0128265</td><td style = \"text-align: right;\">3.47169e-8</td><td style = \"text-align: right;\">4.67948</td><td style = \"text-align: right;\">0.6</td></tr><tr><td class = \"rowNumber\" style = \"font-weight: bold; text-align: right;\">12</td><td style = \"text-align: right;\">25</td><td style = \"text-align: right;\">0.95275</td><td style = \"text-align: right;\">0.0128265</td><td style = \"text-align: right;\">3.47169e-8</td><td style = \"text-align: right;\">7.01968</td><td style = \"text-align: right;\">0.828571</td></tr><tr><td class = \"rowNumber\" style = \"font-weight: bold; text-align: right;\">13</td><td style = \"text-align: right;\">26</td><td style = \"text-align: right;\">0.95275</td><td style = \"text-align: right;\">0.0128265</td><td style = \"text-align: right;\">3.47169e-8</td><td style = \"text-align: right;\">5.56366</td><td style = \"text-align: right;\">0.857143</td></tr><tr><td style = \"text-align: right;\">&vellip;</td><td style = \"text-align: right;\">&vellip;</td><td style = \"text-align: right;\">&vellip;</td><td style = \"text-align: right;\">&vellip;</td><td style = \"text-align: right;\">&vellip;</td><td style = \"text-align: right;\">&vellip;</td><td style = \"text-align: right;\">&vellip;</td></tr><tr><td class = \"rowNumber\" style = \"font-weight: bold; text-align: right;\">3030</td><td style = \"text-align: right;\">34</td><td style = \"text-align: right;\">0.95275</td><td style = \"text-align: right;\">0.0128265</td><td style = \"text-align: right;\">3.43346e-6</td><td style = \"text-align: right;\">6.75353</td><td style = \"text-align: right;\">0.742857</td></tr><tr><td class = \"rowNumber\" style = \"font-weight: bold; text-align: right;\">3031</td><td style = \"text-align: right;\">34</td><td style = \"text-align: right;\">0.95275</td><td style = \"text-align: right;\">0.0128265</td><td style = \"text-align: right;\">3.43694e-6</td><td style = \"text-align: right;\">5.21197</td><td style = \"text-align: right;\">0.828571</td></tr><tr><td class = \"rowNumber\" style = \"font-weight: bold; text-align: right;\">3032</td><td style = \"text-align: right;\">34</td><td style = \"text-align: right;\">0.95275</td><td style = \"text-align: right;\">0.0128265</td><td style = \"text-align: right;\">3.44041e-6</td><td style = \"text-align: right;\">5.25712</td><td style = \"text-align: right;\">0.742857</td></tr><tr><td class = \"rowNumber\" style = \"font-weight: bold; text-align: right;\">3033</td><td style = \"text-align: right;\">34</td><td style = \"text-align: right;\">0.95275</td><td style = \"text-align: right;\">0.0128265</td><td style = \"text-align: right;\">3.44389e-6</td><td style = \"text-align: right;\">5.04595</td><td style = \"text-align: right;\">0.714286</td></tr><tr><td class = \"rowNumber\" style = \"font-weight: bold; text-align: right;\">3034</td><td style = \"text-align: right;\">34</td><td style = \"text-align: right;\">0.95275</td><td style = \"text-align: right;\">0.0128265</td><td style = \"text-align: right;\">3.44736e-6</td><td style = \"text-align: right;\">10.7616</td><td style = \"text-align: right;\">0.742857</td></tr><tr><td class = \"rowNumber\" style = \"font-weight: bold; text-align: right;\">3035</td><td style = \"text-align: right;\">34</td><td style = \"text-align: right;\">0.95275</td><td style = \"text-align: right;\">0.0128265</td><td style = \"text-align: right;\">3.45084e-6</td><td style = \"text-align: right;\">4.35808</td><td style = \"text-align: right;\">0.8</td></tr><tr><td class = \"rowNumber\" style = \"font-weight: bold; text-align: right;\">3036</td><td style = \"text-align: right;\">34</td><td style = \"text-align: right;\">0.95275</td><td style = \"text-align: right;\">0.0128265</td><td style = \"text-align: right;\">3.45431e-6</td><td style = \"text-align: right;\">6.61526</td><td style = \"text-align: right;\">0.628571</td></tr><tr><td class = \"rowNumber\" style = \"font-weight: bold; text-align: right;\">3037</td><td style = \"text-align: right;\">34</td><td style = \"text-align: right;\">0.95275</td><td style = \"text-align: right;\">0.0128265</td><td style = \"text-align: right;\">3.45779e-6</td><td style = \"text-align: right;\">4.0346</td><td style = \"text-align: right;\">0.628571</td></tr><tr><td class = \"rowNumber\" style = \"font-weight: bold; text-align: right;\">3038</td><td style = \"text-align: right;\">34</td><td style = \"text-align: right;\">0.95275</td><td style = \"text-align: right;\">0.0128265</td><td style = \"text-align: right;\">3.46126e-6</td><td style = \"text-align: right;\">5.08006</td><td style = \"text-align: right;\">0.657143</td></tr><tr><td class = \"rowNumber\" style = \"font-weight: bold; text-align: right;\">3039</td><td style = \"text-align: right;\">34</td><td style = \"text-align: right;\">0.95275</td><td style = \"text-align: right;\">0.0128265</td><td style = \"text-align: right;\">3.46474e-6</td><td style = \"text-align: right;\">5.21073</td><td style = \"text-align: right;\">0.771429</td></tr><tr><td class = \"rowNumber\" style = \"font-weight: bold; text-align: right;\">3040</td><td style = \"text-align: right;\">34</td><td style = \"text-align: right;\">0.95275</td><td style = \"text-align: right;\">0.0128265</td><td style = \"text-align: right;\">3.46821e-6</td><td style = \"text-align: right;\">5.33617</td><td style = \"text-align: right;\">0.657143</td></tr><tr><td class = \"rowNumber\" style = \"font-weight: bold; text-align: right;\">3041</td><td style = \"text-align: right;\">34</td><td style = \"text-align: right;\">0.95275</td><td style = \"text-align: right;\">0.0128265</td><td style = \"text-align: right;\">3.47169e-6</td><td style = \"text-align: right;\">4.36091</td><td style = \"text-align: right;\">0.571429</td></tr></tbody></table></div>"
      ],
      "text/latex": [
       "\\begin{tabular}{r|cccccc}\n",
       "\t& K & eps\\_CL & eps\\_E & tol & time & acc\\\\\n",
       "\t\\hline\n",
       "\t& Int64 & Float64 & Float64 & Float64 & Float64 & Float64\\\\\n",
       "\t\\hline\n",
       "\t1 & 14 & 0.95275 & 0.0128265 & 3.47169e-8 & 3.60564 & 0.742857 \\\\\n",
       "\t2 & 15 & 0.95275 & 0.0128265 & 3.47169e-8 & 0.405741 & 0.628571 \\\\\n",
       "\t3 & 16 & 0.95275 & 0.0128265 & 3.47169e-8 & 13.0519 & 0.628571 \\\\\n",
       "\t4 & 17 & 0.95275 & 0.0128265 & 3.47169e-8 & 13.3506 & 0.771429 \\\\\n",
       "\t5 & 18 & 0.95275 & 0.0128265 & 3.47169e-8 & 9.19967 & 0.857143 \\\\\n",
       "\t6 & 19 & 0.95275 & 0.0128265 & 3.47169e-8 & 8.17392 & 0.685714 \\\\\n",
       "\t7 & 20 & 0.95275 & 0.0128265 & 3.47169e-8 & 9.07344 & 0.771429 \\\\\n",
       "\t8 & 21 & 0.95275 & 0.0128265 & 3.47169e-8 & 13.8096 & 0.742857 \\\\\n",
       "\t9 & 22 & 0.95275 & 0.0128265 & 3.47169e-8 & 6.83688 & 0.8 \\\\\n",
       "\t10 & 23 & 0.95275 & 0.0128265 & 3.47169e-8 & 11.9106 & 0.657143 \\\\\n",
       "\t11 & 24 & 0.95275 & 0.0128265 & 3.47169e-8 & 4.67948 & 0.6 \\\\\n",
       "\t12 & 25 & 0.95275 & 0.0128265 & 3.47169e-8 & 7.01968 & 0.828571 \\\\\n",
       "\t13 & 26 & 0.95275 & 0.0128265 & 3.47169e-8 & 5.56366 & 0.857143 \\\\\n",
       "\t14 & 27 & 0.95275 & 0.0128265 & 3.47169e-8 & 7.52343 & 0.771429 \\\\\n",
       "\t15 & 28 & 0.95275 & 0.0128265 & 3.47169e-8 & 7.72577 & 0.685714 \\\\\n",
       "\t16 & 29 & 0.95275 & 0.0128265 & 3.47169e-8 & 5.15742 & 0.742857 \\\\\n",
       "\t17 & 30 & 0.95275 & 0.0128265 & 3.47169e-8 & 8.4656 & 0.742857 \\\\\n",
       "\t18 & 31 & 0.95275 & 0.0128265 & 3.47169e-8 & 5.74253 & 0.828571 \\\\\n",
       "\t19 & 32 & 0.95275 & 0.0128265 & 3.47169e-8 & 7.56383 & 0.714286 \\\\\n",
       "\t20 & 33 & 0.95275 & 0.0128265 & 3.47169e-8 & 5.68264 & 0.828571 \\\\\n",
       "\t21 & 34 & 0.95275 & 0.0128265 & 3.47169e-8 & 5.7041 & 0.742857 \\\\\n",
       "\t22 & 35 & 0.95275 & 0.0128265 & 3.47169e-8 & 5.67415 & 0.742857 \\\\\n",
       "\t23 & 36 & 0.95275 & 0.0128265 & 3.47169e-8 & 6.52906 & 0.8 \\\\\n",
       "\t24 & 37 & 0.95275 & 0.0128265 & 3.47169e-8 & 6.3559 & 0.742857 \\\\\n",
       "\t$\\dots$ & $\\dots$ & $\\dots$ & $\\dots$ & $\\dots$ & $\\dots$ & $\\dots$ \\\\\n",
       "\\end{tabular}\n"
      ],
      "text/plain": [
       "\u001b[1m3041×6 DataFrame\u001b[0m\n",
       "\u001b[1m  Row \u001b[0m│\u001b[1m K     \u001b[0m\u001b[1m eps_CL  \u001b[0m\u001b[1m eps_E     \u001b[0m\u001b[1m tol        \u001b[0m\u001b[1m time      \u001b[0m\u001b[1m acc      \u001b[0m\n",
       "      │\u001b[90m Int64 \u001b[0m\u001b[90m Float64 \u001b[0m\u001b[90m Float64   \u001b[0m\u001b[90m Float64    \u001b[0m\u001b[90m Float64   \u001b[0m\u001b[90m Float64  \u001b[0m\n",
       "──────┼────────────────────────────────────────────────────────────\n",
       "    1 │    14  0.95275  0.0128265  3.47169e-8   3.60564   0.742857\n",
       "    2 │    15  0.95275  0.0128265  3.47169e-8   0.405741  0.628571\n",
       "    3 │    16  0.95275  0.0128265  3.47169e-8  13.0519    0.628571\n",
       "    4 │    17  0.95275  0.0128265  3.47169e-8  13.3506    0.771429\n",
       "    5 │    18  0.95275  0.0128265  3.47169e-8   9.19967   0.857143\n",
       "    6 │    19  0.95275  0.0128265  3.47169e-8   8.17392   0.685714\n",
       "    7 │    20  0.95275  0.0128265  3.47169e-8   9.07344   0.771429\n",
       "    8 │    21  0.95275  0.0128265  3.47169e-8  13.8096    0.742857\n",
       "  ⋮   │   ⋮       ⋮         ⋮          ⋮           ⋮         ⋮\n",
       " 3035 │    34  0.95275  0.0128265  3.45084e-6   4.35808   0.8\n",
       " 3036 │    34  0.95275  0.0128265  3.45431e-6   6.61526   0.628571\n",
       " 3037 │    34  0.95275  0.0128265  3.45779e-6   4.0346    0.628571\n",
       " 3038 │    34  0.95275  0.0128265  3.46126e-6   5.08006   0.657143\n",
       " 3039 │    34  0.95275  0.0128265  3.46474e-6   5.21073   0.771429\n",
       " 3040 │    34  0.95275  0.0128265  3.46821e-6   5.33617   0.657143\n",
       " 3041 │    34  0.95275  0.0128265  3.47169e-6   4.36091   0.571429\n",
       "\u001b[36m                                                  3026 rows omitted\u001b[0m"
      ]
     },
     "metadata": {},
     "output_type": "display_data"
    }
   ],
   "source": [
    "df = CSV.read(\"exps/exp_hp_sens2025-05-27_21-16-07/results.csv\",DataFrame)"
   ]
  },
  {
   "cell_type": "code",
   "execution_count": 248,
   "id": "dffef741",
   "metadata": {},
   "outputs": [
    {
     "data": {
      "text/plain": [
       "6.947533405893128"
      ]
     },
     "metadata": {},
     "output_type": "display_data"
    }
   ],
   "source": [
    "mean(df[:,\"time\"])"
   ]
  },
  {
   "cell_type": "code",
   "execution_count": 224,
   "id": "5b7dbb5c",
   "metadata": {},
   "outputs": [
    {
     "data": {
      "text/plain": [
       "1000-element LinRange{Float64, Int64}:\n",
       " 3.47169e-10, 3.82198e-9, 7.2968e-9, …, 3.46474e-6, 3.46821e-6, 3.47169e-6"
      ]
     },
     "metadata": {},
     "output_type": "display_data"
    }
   ],
   "source": [
    "best_K = 34\n",
    "best_eps_CL = 0.952750047242729\n",
    "best_eps_E = 0.012826498305280605\n",
    "best_tol = 3.47168681892656e-8\n",
    "\n",
    "_K = (34-20):(34+20)\n",
    "_eps_E = LinRange(best_eps_E*10,best_eps_E/10,1000)\n",
    "_eps_CL = LinRange(best_eps_CL*10,best_eps_CL/10,1000)\n",
    "_tol = LinRange(best_tol*10^-2,best_tol*10^2,1000)"
   ]
  },
  {
   "cell_type": "code",
   "execution_count": 225,
   "id": "128e244e",
   "metadata": {},
   "outputs": [
    {
     "data": {
      "text/plain": [
       "41"
      ]
     },
     "metadata": {},
     "output_type": "display_data"
    }
   ],
   "source": [
    "length(_K)"
   ]
  },
  {
   "cell_type": "code",
   "execution_count": 226,
   "id": "d1688ddc",
   "metadata": {},
   "outputs": [
    {
     "data": {
      "text/plain": [
       "41-element Vector{Float64}:\n",
       " 0.7428571428571429\n",
       " 0.6285714285714286\n",
       " 0.6285714285714286\n",
       " 0.7714285714285715\n",
       " 0.8571428571428571\n",
       " 0.6857142857142857\n",
       " 0.7714285714285715\n",
       " 0.7428571428571429\n",
       " 0.8\n",
       " 0.6571428571428571\n",
       " ⋮\n",
       " 0.7428571428571429\n",
       " 0.8\n",
       " 0.6571428571428571\n",
       " 0.6571428571428571\n",
       " 0.7714285714285715\n",
       " 0.8285714285714286\n",
       " 0.8\n",
       " 0.7142857142857143\n",
       " 0.6857142857142857"
      ]
     },
     "metadata": {},
     "output_type": "display_data"
    }
   ],
   "source": [
    "accs = df[1:41,\"acc\"]"
   ]
  },
  {
   "cell_type": "code",
   "execution_count": 227,
   "id": "cdc07d00",
   "metadata": {},
   "outputs": [
    {
     "data": {
      "text/plain": [
       "0.8285714285714286"
      ]
     },
     "metadata": {},
     "output_type": "display_data"
    }
   ],
   "source": [
    "accs[20]"
   ]
  },
  {
   "cell_type": "code",
   "execution_count": 243,
   "id": "3b017846",
   "metadata": {},
   "outputs": [
    {
     "data": {
      "text/plain": [
       "(0.07046538222258365, 0.14093951035189278, 0.02857142857142858, 0.13260073260073263, 0.2571428571428571, 0.05714285714285716)"
      ]
     },
     "metadata": {},
     "output_type": "display_data"
    }
   ],
   "source": [
    "accs = df[1:41,\"acc\"]\n",
    "\n",
    "x = df[1:41,\"K\"]\n",
    "y = accs\n",
    "\n",
    "X = hcat(ones(length(x)), x)\n",
    "β = X \\ y\n",
    "a, b = β\n",
    "y_fit = a .+ b .* x\n",
    "\n",
    "p = scatter(x,accs, xlabel=L\"$K$\",ylabel=\"Accuracy\",legend= false,ylim=(0.5,1.),dpi=600)\n",
    "#scatter!([x[20]],[accs[20]], color = :red)\n",
    "plot!(x,accs,linestyle = :dot, color = :blue)\n",
    "plot!(x,y_fit,color= :red,lw = 1.5)\n",
    "savefig(p,\"plots/acc_K.png\")\n",
    "\n",
    "# window size in K: 3\n",
    "window_size = 3\n",
    "rolling_std = [std(accs[i-window_size+1:i]) for i in window_size:length(accs)]\n",
    "rolling_diff = [maximum(accs[i-window_size+1:i]) - minimum(accs[i-window_size+1:i]) for i in window_size:length(accs)]\n",
    "mean(rolling_std), maximum(rolling_std), minimum(rolling_std), mean(rolling_diff), maximum(rolling_diff), minimum(rolling_diff)"
   ]
  },
  {
   "cell_type": "code",
   "execution_count": 240,
   "id": "fb4f8308",
   "metadata": {},
   "outputs": [
    {
     "data": {
      "text/plain": [
       "(0.07432546024551041, 0.12504874333081795, 0.028412255028907245, 0.23174282831195045, 0.4000000000000001, 0.08571428571428574)"
      ]
     },
     "metadata": {},
     "output_type": "display_data"
    }
   ],
   "source": [
    "accs = df[42:1041,\"acc\"]\n",
    "\n",
    "x = df[42:1041,\"eps_CL\"]\n",
    "y = accs\n",
    "\n",
    "X = hcat(ones(length(x)), x)\n",
    "β = X \\ y\n",
    "a, b = β\n",
    "y_fit = a .+ b .* x\n",
    "\n",
    "#scatter([x[499]],[accs[499]], color = :red)\n",
    "p = plot(x,accs,color = :blue, xlabel=L\"$eps_{CL}$\",ylabel=\"Accuracy\",legend= false,ylim=(0.5,1.),lw = 0.3,dpi=600)\n",
    "plot!(x,y_fit,color= :red,lw = 1.5)\n",
    "savefig(p,\"plots/acc_eps_CL.png\")\n",
    "# window size in eps_CL: 0.09441667134836962\n",
    "window_size = 10\n",
    "rolling_std = [std(accs[i-window_size+1:i]) for i in window_size:length(accs)]\n",
    "rolling_diff = [maximum(accs[i-window_size+1:i]) - minimum(accs[i-window_size+1:i]) for i in window_size:length(accs)]\n",
    "mean(rolling_std), maximum(rolling_std), minimum(rolling_std), mean(rolling_diff), maximum(rolling_diff), minimum(rolling_diff)"
   ]
  },
  {
   "cell_type": "code",
   "execution_count": 230,
   "id": "296e061f",
   "metadata": {},
   "outputs": [
    {
     "data": {
      "text/plain": [
       "0.09441667134836962"
      ]
     },
     "metadata": {},
     "output_type": "display_data"
    }
   ],
   "source": [
    "(x[11] - x[12])*10"
   ]
  },
  {
   "cell_type": "code",
   "execution_count": 241,
   "id": "b576e5b1",
   "metadata": {},
   "outputs": [
    {
     "data": {
      "text/plain": [
       "(0.072228687650048, 0.12450354929417908, 0.024281045302822792, 0.22444860890875018, 0.3714285714285715, 0.08571428571428574)"
      ]
     },
     "metadata": {},
     "output_type": "display_data"
    }
   ],
   "source": [
    "accs = df[1042:2041,\"acc\"]\n",
    "\n",
    "x = df[1042:2041,\"eps_E\"]\n",
    "y = accs\n",
    "\n",
    "X = hcat(ones(length(x)), x)\n",
    "β = X \\ y\n",
    "a, b = β\n",
    "y_fit = a .+ b .* x\n",
    "\n",
    "#scatter([500],[accs[500]], color = :red)\n",
    "p = plot(x,accs, color = :blue,xlabel=L\"$eps_{E}$\",ylabel=\"Accuracy\",legend= false,ylim=(0.5,1.),lw = 0.3,dpi=600)\n",
    "plot!(x,y_fit,color= :red,lw = 1.5)\n",
    "savefig(p,\"plots/acc_eps_E.png\")\n",
    "# window size in eps_E: 0.0012710944266497437\n",
    "window_size = 10\n",
    "rolling_std = [std(accs[i-window_size+1:i]) for i in window_size:length(accs)]\n",
    "rolling_diff = [maximum(accs[i-window_size+1:i]) - minimum(accs[i-window_size+1:i]) for i in window_size:length(accs)]\n",
    "mean(rolling_std), maximum(rolling_std), minimum(rolling_std), mean(rolling_diff), maximum(rolling_diff), minimum(rolling_diff)"
   ]
  },
  {
   "cell_type": "code",
   "execution_count": 232,
   "id": "d221c9e9",
   "metadata": {},
   "outputs": [
    {
     "data": {
      "text/plain": [
       "0.0012710944266497437"
      ]
     },
     "metadata": {},
     "output_type": "display_data"
    }
   ],
   "source": [
    "(x[11] - x[12])*10"
   ]
  },
  {
   "cell_type": "code",
   "execution_count": 242,
   "id": "1fada04f",
   "metadata": {},
   "outputs": [
    {
     "data": {
      "text/plain": [
       "(0.07259814668436197, 0.12504874333081795, 0.027105237087157546, 0.2284561049445005, 0.4, 0.05714285714285716)"
      ]
     },
     "metadata": {},
     "output_type": "display_data"
    }
   ],
   "source": [
    "accs = df[2042:3041,\"acc\"]\n",
    "\n",
    "x = df[2042:3041,\"tol\"]\n",
    "y = accs\n",
    "\n",
    "X = hcat(ones(length(x)), x)\n",
    "β = X \\ y\n",
    "a, b = β\n",
    "y_fit = a .+ b .* x\n",
    "\n",
    "#scatter([500],[accs[500]], color = :red)\n",
    "p = plot(x,accs, color = :blue,xlabel=L\"$tol$\",ylabel=\"Accuracy\",legend= false,ylim=(0.5,1.),lw = 0.3,dpi=600)\n",
    "plot!(x,y_fit,color= :red,lw = 1.5)\n",
    "savefig(p,\"plots/acc_tol.png\")\n",
    "# window size in tol: -3.474814464709383e-8\n",
    "window_size = 10\n",
    "rolling_std = [std(accs[i-window_size+1:i]) for i in window_size:length(accs)]\n",
    "rolling_diff = [maximum(accs[i-window_size+1:i]) - minimum(accs[i-window_size+1:i]) for i in window_size:length(accs)]\n",
    "mean(rolling_std), maximum(rolling_std), minimum(rolling_std), mean(rolling_diff), maximum(rolling_diff), minimum(rolling_diff)"
   ]
  },
  {
   "cell_type": "code",
   "execution_count": 234,
   "id": "5225cb77",
   "metadata": {},
   "outputs": [
    {
     "data": {
      "text/plain": [
       "3.4748144647093766e-8"
      ]
     },
     "metadata": {},
     "output_type": "display_data"
    }
   ],
   "source": [
    "(x[13] - x[12])*10"
   ]
  },
  {
   "cell_type": "code",
   "execution_count": 244,
   "id": "ff5eaa10",
   "metadata": {},
   "outputs": [
    {
     "data": {
      "text/plain": [
       "(1.6968074068041745, 7.388999779450501, 0.015431524225167213, 3.202354706948718, 12.944856346, 0.029941409000000085)"
      ]
     },
     "metadata": {},
     "output_type": "display_data"
    }
   ],
   "source": [
    "accs = df[1:41,\"time\"]\n",
    "\n",
    "x = df[1:41,\"K\"]\n",
    "y = accs\n",
    "\n",
    "X = hcat(ones(length(x)), x)\n",
    "β = X \\ y\n",
    "a, b = β\n",
    "y_fit = a .+ b .* x\n",
    "\n",
    "p = scatter(x,accs,dpi=600)\n",
    "#scatter!([20],[accs[20]], color = :red)\n",
    "plot!(x,accs,linestyle = :dot, color = :blue,xlabel=L\"$K$\",ylabel=\"Time in seconds\",legend= false)\n",
    "plot!(x,y_fit,color= :red,lw = 1.5)\n",
    "savefig(p,\"plots/time_K.png\")\n",
    "\n",
    "# window size in K: 3\n",
    "window_size = 3\n",
    "rolling_std = [std(accs[i-window_size+1:i]) for i in window_size:length(accs)]\n",
    "rolling_diff = [maximum(accs[i-window_size+1:i]) - minimum(accs[i-window_size+1:i]) for i in window_size:length(accs)]\n",
    "mean(rolling_std), maximum(rolling_std), minimum(rolling_std), mean(rolling_diff), maximum(rolling_diff), minimum(rolling_diff)"
   ]
  },
  {
   "cell_type": "code",
   "execution_count": 245,
   "id": "f62a7f8a",
   "metadata": {},
   "outputs": [
    {
     "data": {
      "text/plain": [
       "(1.7150099564116497, 5.7073395861650456, 0.43771532084278075, 5.445325793620584, 18.843100049, 1.541457414)"
      ]
     },
     "metadata": {},
     "output_type": "display_data"
    }
   ],
   "source": [
    "accs = df[42:1041,\"time\"]\n",
    "\n",
    "x = df[42:1041,\"eps_CL\"]\n",
    "y = accs\n",
    "\n",
    "X = hcat(ones(length(x)), x)\n",
    "β = X \\ y\n",
    "a, b = β\n",
    "y_fit = a .+ b .* x\n",
    "\n",
    "#scatter([500],[accs[500]], color = :red)\n",
    "p = plot(x,accs, color = :blue,xlabel=L\"$eps_{CL}$\",ylabel=\"Time in seconds\",legend= false,lw = 0.3,dpi=600)\n",
    "plot!(x,y_fit,color= :red,lw = 1.5)\n",
    "savefig(p,\"plots/time_eps_CL.png\")\n",
    "# window size in eps_CL: 0.09441667134836962\n",
    "window_size = 10\n",
    "rolling_std = [std(accs[i-window_size+1:i]) for i in window_size:length(accs)]\n",
    "rolling_diff = [maximum(accs[i-window_size+1:i]) - minimum(accs[i-window_size+1:i]) for i in window_size:length(accs)]\n",
    "mean(rolling_std), maximum(rolling_std), minimum(rolling_std), mean(rolling_diff), maximum(rolling_diff), minimum(rolling_diff)"
   ]
  },
  {
   "cell_type": "code",
   "execution_count": 246,
   "id": "60dd240f",
   "metadata": {},
   "outputs": [
    {
     "data": {
      "text/plain": [
       "(1.785798878168297, 3.772983019507646, 0.5108586110830221, 5.580049351752773, 10.894621223000001, 1.6296030479999999)"
      ]
     },
     "metadata": {},
     "output_type": "display_data"
    }
   ],
   "source": [
    "accs = df[1042:2041,\"time\"]\n",
    "\n",
    "x = df[1042:2041,\"eps_E\"]\n",
    "y = accs\n",
    "\n",
    "X = hcat(ones(length(x)), x)\n",
    "β = X \\ y\n",
    "a, b = β\n",
    "y_fit = a .+ b .* x\n",
    "\n",
    "#scatter([500],[accs[500]], color = :red)\n",
    "p = plot(x,accs, color = :blue,xlabel=L\"$eps_{CL}$\",ylabel=\"Time in seconds\",legend= false,lw = 0.3,dpi=600)\n",
    "plot!(x,y_fit,color= :red,lw = 1.5)\n",
    "savefig(p,\"plots/time_eps_E.png\")\n",
    "# window size in eps_E: 0.0012710944266497437\n",
    "window_size = 10\n",
    "rolling_std = [std(accs[i-window_size+1:i]) for i in window_size:length(accs)]\n",
    "rolling_diff = [maximum(accs[i-window_size+1:i]) - minimum(accs[i-window_size+1:i]) for i in window_size:length(accs)]\n",
    "mean(rolling_std), maximum(rolling_std), minimum(rolling_std), mean(rolling_diff), maximum(rolling_diff), minimum(rolling_diff)"
   ]
  },
  {
   "cell_type": "code",
   "execution_count": 247,
   "id": "87be2003",
   "metadata": {},
   "outputs": [
    {
     "data": {
      "text/plain": [
       "(1.640525996583254, 3.7369946895532107, 0.6173405561626616, 5.116385566124115, 11.446786622000001, 2.160633874)"
      ]
     },
     "metadata": {},
     "output_type": "display_data"
    }
   ],
   "source": [
    "accs = df[2042:3041,\"time\"]\n",
    "\n",
    "x = df[2042:3041,\"tol\"]\n",
    "y = accs\n",
    "\n",
    "X = hcat(ones(length(x)), x)\n",
    "β = X \\ y\n",
    "a, b = β\n",
    "y_fit = a .+ b .* x\n",
    "\n",
    "#scatter([500],[accs[500]], color = :red)\n",
    "p = plot(x,accs, color = :blue,xlabel=L\"$tol$\",ylabel=\"Time in seconds\",legend= false,lw = 0.3,dpi=600)\n",
    "plot!(x,y_fit,color= :red,lw = 1.5)\n",
    "savefig(p,\"plots/time_tol.png\")\n",
    "# window size in tol: -3.474814464709383e-8\n",
    "window_size = 10\n",
    "rolling_std = [std(accs[i-window_size+1:i]) for i in window_size:length(accs)]\n",
    "rolling_diff = [maximum(accs[i-window_size+1:i]) - minimum(accs[i-window_size+1:i]) for i in window_size:length(accs)]\n",
    "mean(rolling_std), maximum(rolling_std), minimum(rolling_std), mean(rolling_diff), maximum(rolling_diff), minimum(rolling_diff)"
   ]
  },
  {
   "cell_type": "code",
   "execution_count": 239,
   "id": "f41f9a42",
   "metadata": {},
   "outputs": [],
   "source": []
  }
 ],
 "metadata": {
  "kernelspec": {
   "display_name": "Julia 1.11.5",
   "language": "julia",
   "name": "julia-1.11"
  },
  "language_info": {
   "file_extension": ".jl",
   "mimetype": "application/julia",
   "name": "julia",
   "version": "1.11.5"
  }
 },
 "nbformat": 4,
 "nbformat_minor": 5
}
