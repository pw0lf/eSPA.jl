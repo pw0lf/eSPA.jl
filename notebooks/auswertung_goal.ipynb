{
 "cells": [
  {
   "cell_type": "code",
   "execution_count": 1,
   "id": "960c2282",
   "metadata": {},
   "outputs": [],
   "source": [
    "using Plots\n",
    "using LaTeXStrings\n",
    "using CSV\n",
    "using DataFrames\n",
    "using Statistics\n",
    "using JSON\n",
    "using StatsPlots"
   ]
  },
  {
   "cell_type": "code",
   "execution_count": 2,
   "id": "d3f18ec1",
   "metadata": {},
   "outputs": [
    {
     "data": {
      "text/plain": [
       "Dict{String, Tuple{String, Int64}} with 7 entries:\n",
       "  \"10_100\"  => (\"exp1_goal_10_100_2025-05-24_11-00-59\", 50)\n",
       "  \"4_100\"   => (\"exp1_goal_4_100_2025-05-24_10-58-48\", 50)\n",
       "  \"30_100\"  => (\"exp1_goal_30_100_2025-05-24_11-01-05\", 50)\n",
       "  \"30_1000\" => (\"exp1_goal_30_1000_2025-05-24_11-01-15\", 50)\n",
       "  \"darwin\"  => (\"exp_darwin_goal_2025-05-27_20-23-34\", 15)\n",
       "  \"10_1000\" => (\"exp1_goal_10_1000_2025-05-24_11-01-22\", 50)\n",
       "  \"4_1000\"  => (\"exp1_goal_4_1000_2025-05-24_11-01-42\", 50)"
      ]
     },
     "metadata": {},
     "output_type": "display_data"
    }
   ],
   "source": [
    "paths = Dict(\n",
    "    \"4_100\" => (\"exp1_goal_4_100_2025-05-24_10-58-48\", 50),\n",
    "    \"4_1000\" => (\"exp1_goal_4_1000_2025-05-24_11-01-42\", 50),\n",
    "    \"10_100\" => (\"exp1_goal_10_100_2025-05-24_11-00-59\", 50),\n",
    "    \"10_1000\" => (\"exp1_goal_10_1000_2025-05-24_11-01-22\", 50),\n",
    "    \"30_100\" => (\"exp1_goal_30_100_2025-05-24_11-01-05\", 50),\n",
    "    \"30_1000\" => (\"exp1_goal_30_1000_2025-05-24_11-01-15\", 50),\n",
    "    \"darwin\" => (\"exp_darwin_goal_2025-05-27_20-23-34\", 15)\n",
    ")"
   ]
  },
  {
   "cell_type": "code",
   "execution_count": 5,
   "id": "fe548172",
   "metadata": {},
   "outputs": [
    {
     "data": {
      "text/plain": [
       "count_iterations (generic function with 1 method)"
      ]
     },
     "metadata": {},
     "output_type": "display_data"
    }
   ],
   "source": [
    "function count_iterations(dataset)\n",
    "    path = \"exps/\" * paths[dataset][1]\n",
    "    iter = paths[dataset][2]\n",
    "    num_iters = zeros(iter)\n",
    "    for i in 1:iter\n",
    "        df = CSV.read(\"$(path)/opt_times_$i.csv\",DataFrame)\n",
    "        num_iters[i] = df[end,\"i\"]\n",
    "    end\n",
    "    return num_iters\n",
    "end"
   ]
  },
  {
   "cell_type": "code",
   "execution_count": 12,
   "id": "ee5d6403",
   "metadata": {},
   "outputs": [
    {
     "name": "stdout",
     "output_type": "stream",
     "text": [
      "10_100\n",
      "Mean iterations: 49.68\n",
      "Number of 100 iterations: 20\n",
      "Fraction of 100 iterations: 0.4\n",
      "4_100\n",
      "Mean iterations: 10.04\n",
      "Number of 100 iterations: 1\n",
      "Fraction of 100 iterations: 0.02\n",
      "30_100\n",
      "Mean iterations: 74.18\n",
      "Number of 100 iterations: 32\n",
      "Fraction of 100 iterations: 0.64\n",
      "30_1000\n",
      "Mean iterations: 72.98\n",
      "Number of 100 iterations: 31\n",
      "Fraction of 100 iterations: 0.62\n",
      "darwin\n",
      "Mean iterations: 100.0\n",
      "Number of 100 iterations: 15\n",
      "Fraction of 100 iterations: 1.0\n",
      "10_1000\n",
      "Mean iterations: 58.46\n",
      "Number of 100 iterations: 22\n",
      "Fraction of 100 iterations: 0.44\n",
      "4_1000\n",
      "Mean iterations: 36.76\n",
      "Number of 100 iterations: 2\n",
      "Fraction of 100 iterations: 0.04\n"
     ]
    }
   ],
   "source": [
    "for k in keys(paths)\n",
    "    println(k)\n",
    "    iters = count_iterations(k)\n",
    "    println(\"Mean iterations: $(mean(iters))\")\n",
    "    iter_100 = count(x -> x == 100.0, iters)\n",
    "    it = paths[k][2]\n",
    "    frac_iter_100 = iter_100/it\n",
    "    println(\"Number of 100 iterations: $(iter_100)\")\n",
    "    println(\"Fraction of 100 iterations: $(frac_iter_100)\")\n",
    "end"
   ]
  },
  {
   "cell_type": "code",
   "execution_count": 13,
   "id": "060f77e6",
   "metadata": {},
   "outputs": [
    {
     "data": {
      "text/plain": [
       "get_g_and_acc (generic function with 1 method)"
      ]
     },
     "metadata": {},
     "output_type": "display_data"
    }
   ],
   "source": [
    "function get_g_and_acc(dataset)\n",
    "    path = \"exps/\" * paths[dataset][1]\n",
    "    iter = paths[dataset][2]\n",
    "    Gs = zeros(iter)\n",
    "    accs = zeros(iter)\n",
    "    for i in 1:iter\n",
    "        json_data = JSON.parsefile(\"$(path)/params_$i.json\")\n",
    "        Gs[i] = json_data[\"hps\"][\"G\"]\n",
    "        accs[i] = json_data[\"accuracy\"]\n",
    "    end\n",
    "    return accs, Gs\n",
    "end"
   ]
  },
  {
   "cell_type": "code",
   "execution_count": 55,
   "id": "2111cb18",
   "metadata": {},
   "outputs": [],
   "source": [
    "using Statistics"
   ]
  },
  {
   "cell_type": "code",
   "execution_count": 56,
   "id": "cfcc5fb1",
   "metadata": {},
   "outputs": [
    {
     "data": {
      "text/plain": [
       "0.271336242908664"
      ]
     },
     "metadata": {},
     "output_type": "display_data"
    }
   ],
   "source": [
    "accs, Gs = get_g_and_acc(\"darwin\")\n",
    "cor(accs,Gs)"
   ]
  },
  {
   "cell_type": "code",
   "execution_count": 57,
   "id": "a5be8570",
   "metadata": {},
   "outputs": [
    {
     "data": {
      "text/plain": [
       "-0.10830283141008945"
      ]
     },
     "metadata": {},
     "output_type": "display_data"
    }
   ],
   "source": [
    "accs, Gs = get_g_and_acc(\"4_100\")\n",
    "cor(accs,Gs)"
   ]
  },
  {
   "cell_type": "code",
   "execution_count": 58,
   "id": "3dae5454",
   "metadata": {},
   "outputs": [
    {
     "data": {
      "text/plain": [
       "-0.4693959847755619"
      ]
     },
     "metadata": {},
     "output_type": "display_data"
    }
   ],
   "source": [
    "accs, Gs = get_g_and_acc(\"4_1000\")\n",
    "cor(accs,Gs)"
   ]
  },
  {
   "cell_type": "code",
   "execution_count": 59,
   "id": "5aa595c6",
   "metadata": {},
   "outputs": [
    {
     "data": {
      "text/plain": [
       "-0.16614650718684273"
      ]
     },
     "metadata": {},
     "output_type": "display_data"
    }
   ],
   "source": [
    "accs, Gs = get_g_and_acc(\"10_100\")\n",
    "cor(accs,Gs)"
   ]
  },
  {
   "cell_type": "code",
   "execution_count": 60,
   "id": "640bd9ac",
   "metadata": {},
   "outputs": [
    {
     "data": {
      "text/plain": [
       "0.06586229330858143"
      ]
     },
     "metadata": {},
     "output_type": "display_data"
    }
   ],
   "source": [
    "accs, Gs = get_g_and_acc(\"10_1000\")\n",
    "cor(accs,Gs)"
   ]
  },
  {
   "cell_type": "code",
   "execution_count": 61,
   "id": "de996e4b",
   "metadata": {},
   "outputs": [
    {
     "data": {
      "text/plain": [
       "0.029181676297636502"
      ]
     },
     "metadata": {},
     "output_type": "display_data"
    }
   ],
   "source": [
    "accs, Gs = get_g_and_acc(\"30_100\")\n",
    "cor(accs,Gs)"
   ]
  },
  {
   "cell_type": "code",
   "execution_count": 62,
   "id": "1b2d0573",
   "metadata": {},
   "outputs": [
    {
     "data": {
      "text/plain": [
       "0.09373552501832495"
      ]
     },
     "metadata": {},
     "output_type": "display_data"
    }
   ],
   "source": [
    "accs, Gs = get_g_and_acc(\"30_1000\")\n",
    "cor(accs,Gs)"
   ]
  },
  {
   "cell_type": "code",
   "execution_count": 35,
   "id": "f12644db",
   "metadata": {},
   "outputs": [],
   "source": [
    "using Random\n",
    "using MLJ\n",
    "using MLJBase\n",
    "using StatsBase"
   ]
  },
  {
   "cell_type": "code",
   "execution_count": 38,
   "id": "4c5383d9",
   "metadata": {},
   "outputs": [
    {
     "data": {
      "text/plain": [
       "(Dict(2 => 42, 1 => 38), Dict(2 => 8, 1 => 12))"
      ]
     },
     "metadata": {},
     "output_type": "display_data"
    }
   ],
   "source": [
    "Random.seed!(50)\n",
    "include(\"../test/synthdata2.jl\")\n",
    "d = 4\n",
    "n = 100\n",
    "X, Y = make_synth_data2(n, d)\n",
    "train_indices, test_indices = partition(1:size(X, 2), 0.8, shuffle = true)\n",
    "y_train = Y[train_indices]\n",
    "y_test = Y[test_indices]\n",
    "countmap(y_train), countmap(y_test)"
   ]
  },
  {
   "cell_type": "code",
   "execution_count": 53,
   "id": "caf6c944",
   "metadata": {},
   "outputs": [
    {
     "data": {
      "text/plain": [
       "(0.9047619047619048, 0.4, 0.6)"
      ]
     },
     "metadata": {},
     "output_type": "display_data"
    }
   ],
   "source": [
    "38/42, 8/20, 12/20"
   ]
  },
  {
   "cell_type": "code",
   "execution_count": 39,
   "id": "cc34fef9",
   "metadata": {},
   "outputs": [
    {
     "data": {
      "text/plain": [
       "(Dict(2 => 391, 1 => 409), Dict(2 => 109, 1 => 91))"
      ]
     },
     "metadata": {},
     "output_type": "display_data"
    }
   ],
   "source": [
    "Random.seed!(50)\n",
    "include(\"../test/synthdata2.jl\")\n",
    "d = 4\n",
    "n = 1000\n",
    "X, Y = make_synth_data2(n, d)\n",
    "train_indices, test_indices = partition(1:size(X, 2), 0.8, shuffle = true)\n",
    "y_train = Y[train_indices]\n",
    "y_test = Y[test_indices]\n",
    "countmap(y_train), countmap(y_test)"
   ]
  },
  {
   "cell_type": "code",
   "execution_count": 54,
   "id": "030dfb54",
   "metadata": {},
   "outputs": [
    {
     "data": {
      "text/plain": [
       "(0.9559902200488998, 0.455, 0.545)"
      ]
     },
     "metadata": {},
     "output_type": "display_data"
    }
   ],
   "source": [
    "391/409, 91/200, 109/200"
   ]
  },
  {
   "cell_type": "code",
   "execution_count": 40,
   "id": "1aed46f8",
   "metadata": {},
   "outputs": [
    {
     "data": {
      "text/plain": [
       "(Dict(2 => 39, 1 => 41), Dict(2 => 11, 1 => 9))"
      ]
     },
     "metadata": {},
     "output_type": "display_data"
    }
   ],
   "source": [
    "Random.seed!(50)\n",
    "include(\"../test/synthdata2.jl\")\n",
    "d = 10\n",
    "n = 100\n",
    "X, Y = make_synth_data2(n, d)\n",
    "train_indices, test_indices = partition(1:size(X, 2), 0.8, shuffle = true)\n",
    "y_train = Y[train_indices]\n",
    "y_test = Y[test_indices]\n",
    "countmap(y_train), countmap(y_test)"
   ]
  },
  {
   "cell_type": "code",
   "execution_count": 50,
   "id": "1145ab45",
   "metadata": {},
   "outputs": [
    {
     "data": {
      "text/plain": [
       "(0.9512195121951219, 0.8181818181818182)"
      ]
     },
     "metadata": {},
     "output_type": "display_data"
    }
   ],
   "source": [
    "39/41, 9/11"
   ]
  },
  {
   "cell_type": "code",
   "execution_count": 41,
   "id": "6183d325",
   "metadata": {},
   "outputs": [
    {
     "data": {
      "text/plain": [
       "(Dict(2 => 398, 1 => 402), Dict(2 => 102, 1 => 98))"
      ]
     },
     "metadata": {},
     "output_type": "display_data"
    }
   ],
   "source": [
    "Random.seed!(50)\n",
    "include(\"../test/synthdata2.jl\")\n",
    "d = 10\n",
    "n = 1000\n",
    "X, Y = make_synth_data2(n, d)\n",
    "train_indices, test_indices = partition(1:size(X, 2), 0.8, shuffle = true)\n",
    "y_train = Y[train_indices]\n",
    "y_test = Y[test_indices]\n",
    "countmap(y_train), countmap(y_test)"
   ]
  },
  {
   "cell_type": "code",
   "execution_count": 49,
   "id": "3c621276",
   "metadata": {},
   "outputs": [
    {
     "data": {
      "text/plain": [
       "(0.9900497512437811, 1.0408163265306123)"
      ]
     },
     "metadata": {},
     "output_type": "display_data"
    }
   ],
   "source": [
    "398/402, 102/98"
   ]
  },
  {
   "cell_type": "code",
   "execution_count": 43,
   "id": "512fd2c6",
   "metadata": {},
   "outputs": [
    {
     "data": {
      "text/plain": [
       "(Dict(2 => 39, 1 => 41), Dict(2 => 11, 1 => 9))"
      ]
     },
     "metadata": {},
     "output_type": "display_data"
    }
   ],
   "source": [
    "Random.seed!(50)\n",
    "include(\"../test/synthdata2.jl\")\n",
    "d = 30\n",
    "n = 100\n",
    "X, Y = make_synth_data2(n, d)\n",
    "train_indices, test_indices = partition(1:size(X, 2), 0.8, shuffle = true)\n",
    "y_train = Y[train_indices]\n",
    "y_test = Y[test_indices]\n",
    "countmap(y_train), countmap(y_test)"
   ]
  },
  {
   "cell_type": "code",
   "execution_count": 48,
   "id": "da9e8b27",
   "metadata": {},
   "outputs": [
    {
     "data": {
      "text/plain": [
       "(0.9512195121951219, 0.8181818181818182)"
      ]
     },
     "metadata": {},
     "output_type": "display_data"
    }
   ],
   "source": [
    "39/41, 9/11"
   ]
  },
  {
   "cell_type": "code",
   "execution_count": 44,
   "id": "faa968b8",
   "metadata": {},
   "outputs": [
    {
     "data": {
      "text/plain": [
       "(Dict(2 => 403, 1 => 397), Dict(2 => 97, 1 => 103))"
      ]
     },
     "metadata": {},
     "output_type": "display_data"
    }
   ],
   "source": [
    "Random.seed!(50)\n",
    "include(\"../test/synthdata2.jl\")\n",
    "d = 30\n",
    "n = 1000\n",
    "X, Y = make_synth_data2(n, d)\n",
    "train_indices, test_indices = partition(1:size(X, 2), 0.8, shuffle = true)\n",
    "y_train = Y[train_indices]\n",
    "y_test = Y[test_indices]\n",
    "countmap(y_train), countmap(y_test)"
   ]
  },
  {
   "cell_type": "code",
   "execution_count": 47,
   "id": "e01db731",
   "metadata": {},
   "outputs": [
    {
     "data": {
      "text/plain": [
       "(0.9851116625310173, 0.941747572815534)"
      ]
     },
     "metadata": {},
     "output_type": "display_data"
    }
   ],
   "source": [
    "397/403, 97/103"
   ]
  },
  {
   "cell_type": "code",
   "execution_count": 45,
   "id": "826e3de9",
   "metadata": {},
   "outputs": [
    {
     "data": {
      "text/plain": [
       "(Dict(2 => 68, 1 => 71), Dict(2 => 17, 1 => 18))"
      ]
     },
     "metadata": {},
     "output_type": "display_data"
    }
   ],
   "source": [
    "Random.seed!(50)\n",
    "df = CSV.read(\"../exp/darwin.csv\", DataFrame)\n",
    "X = Matrix{Float64}(df[:, 2:end-1])\n",
    "X = X'\n",
    "label_map = Dict(\"P\" => 1, \"H\" => 2)\n",
    "Y = [label_map[label] for label in df[:,end]]\n",
    "\n",
    "train_indices, test_indices = partition(1:size(X, 2), 0.8, shuffle = true)\n",
    "X_train = X[:, train_indices]\n",
    "X_test = X[:, test_indices]\n",
    "y_train = Y[train_indices]\n",
    "y_test = Y[test_indices]\n",
    "countmap(y_train), countmap(y_test)"
   ]
  },
  {
   "cell_type": "code",
   "execution_count": 46,
   "id": "f4ac32c0",
   "metadata": {},
   "outputs": [
    {
     "data": {
      "text/plain": [
       "(0.9577464788732394, 0.9444444444444444)"
      ]
     },
     "metadata": {},
     "output_type": "display_data"
    }
   ],
   "source": [
    "68/71, 17/18"
   ]
  },
  {
   "cell_type": "code",
   "execution_count": null,
   "id": "722b8544",
   "metadata": {},
   "outputs": [],
   "source": []
  }
 ],
 "metadata": {
  "kernelspec": {
   "display_name": "Julia 1.11.5",
   "language": "julia",
   "name": "julia-1.11"
  },
  "language_info": {
   "file_extension": ".jl",
   "mimetype": "application/julia",
   "name": "julia",
   "version": "1.11.5"
  }
 },
 "nbformat": 4,
 "nbformat_minor": 5
}
